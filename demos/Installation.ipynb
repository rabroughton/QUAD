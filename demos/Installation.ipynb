{
 "cells": [
  {
   "cell_type": "markdown",
   "metadata": {},
   "source": [
    "# Installation Instructions\n",
    "\n",
    "The software is written in Python 3.7. You will need to have Python installed on your computer before beginning. You will also need an environment to write and run a script in order to run the software. The code is developed in [SPYDER](https://www.spyder-ide.org/), but it can be run in any IDE (indegrated development environment) or notebook. For the tutorials, it is recommend that you use a [Jupyter Notebook] (https://jupyter.org/), like this one. Some examples of other common interfaces can be found at this webpage: https://www.datacamp.com/community/tutorials/data-science-python-ide. \n",
    "\n",
    "## Installing Python 3.7\n",
    "\n",
    "If you do not yet have Python 3.7 installed on your computer, it is recommended to work through [Anaconda](https://www.anaconda.com/distribution/). You can also utilize another science-oriented Python distribution or download a standard Python release from https://www.python.org/downloads/. Jupyter Notebook is automatically installed with the Anaconda download. The platform and environment are ultimately left up to the user's preference. \n",
    "\n",
    "If you have not previously worked with Python or a similar coding language, please follow the steps below for installation.\n",
    "\n",
    "1) Download the Anaconda distribution [here](https://www.anaconda.com/distribution/). If prompted, select Python 3.7 as the version to download. For more information about Anaconda installation, see [this website](https://docs.anaconda.com/anaconda/install/), which also includes an FAQ section. \n",
    "\n",
    "2) To check that the download worked properly, launch the Anaconda Navigator. On a Windows computer, this can be found in the start menu. On a mac, it is located in the Launchpad. For a Linux system, you will need to type `anaconda-navigator` into the terminal window. For more information, see the [Getting Started with Anaconda guide](https://docs.anaconda.com/anaconda/user-guide/getting-started/). \n",
    "\n",
    "**Note:** If you already have Anaconda installed with an older version of Python, or are using another distribution method that has an older version of Python, it is recommended that you install Python 3.7, QUAD, and its dependencies in a new environment. This will avoid overwriting installations that you may already have on your base environment. More about managing different environments through Anaconda can be found [here](https://docs.anaconda.com/anaconda/navigator/tutorials/manage-environments/#searching-for-an-environment). If you are downloading Anaconda for the first time, this will not be a problem, even if you have other Python-based programs on your computer.\n",
    "\n",
    "3) Install Spyder and/or Jupyter Notebook. This can be done throgh the Anaconda Navigator by clicking on the INSTALL button under the environment icon. Once this is complete, the INSTALL button will turn into a LAUNCH button, which can subsequently be used to open Spyder or Jupyter Notebook.  \n",
    "\n",
    "Now that Python is installed, we can install the QUAD software.\n",
    "\n",
    "## Installing QUAD\n",
    "\n",
    "The code package can be found on the Github [QUAD project page](https://github.com/rabroughton/QUAD). The master branch is shown on the home page and is kept up to date with the most recent developments. You can also find the licensing information, citation information, and code documentation on this page.\n",
    "\n",
    "In order to complete the installation of the QUAD software, we will need to work in a Comand Prompt window. Open a Command Prompt in the environment where Python 3.7 is installed. If you are continuing with the Anaconda distribution option, you can search for the Anaconda Prompt in the start menu (Launchpad for mac, open a new terminal for Linux). Once the prompt is open, to confirm that Python is installed, type `python` into the window. This should return the Python version number and possibly a few other lines of text. If the version number is correct and no error is returned, then Python is correctly installed. Type `exit()` to leave the Python interpreter. \n",
    "\n",
    "If an error is returned that indicates that `python` is not recognized, you will need to make sure that Python was installed correctly. On a windows computer, you may need to [add Python to your path](https://datatofish.com/add-python-to-windows-path/). After the path has been appended, you will need to close and reopen the command prompt window before continuing. Do NOT proceed until you are certain that Python is correctly installed.\n",
    "\n",
    "To install the software with pip install, type the following line of code into the Command Prompt:"
   ]
  },
  {
   "cell_type": "code",
   "execution_count": null,
   "metadata": {},
   "outputs": [],
   "source": [
    "pip install git+https://github.com/rabroughton/QUAD.git"
   ]
  },
  {
   "cell_type": "markdown",
   "metadata": {},
   "source": [
    "For those comfortable with GitHub, and alternative method for download is to directly use the Github [QUAD project page](https://github.com/rabroughton/QUAD). Clone the repository and save it locally to your system. Open a Command Prompt (or Terminal) and navigate to the folder where the repository is saved. Run the command `python setup.py install`, and the QUAD package should install. \n",
    "\n",
    "## Installing GSAS-II\n",
    "\n",
    "QUAD depends on a program called GSAS-II and this program must be downloaded on your machine for the QUAD package to run. Installation instructions can be found on the [GSAS-II webpage](https://subversion.xray.aps.anl.gov/trac/pyGSAS). GSAS-II can be installed through the [Anaconda distribution](https://subversion.xray.aps.anl.gov/trac/pyGSAS/wiki/InstallConda), which is the recommended installation method. There are also several [other installation options](https://subversion.xray.aps.anl.gov/trac/pyGSAS) that are detailed on the GSAS-II website. Note that the GSAS-II software is regularly updated and we will strive to maintain the functionality of QUAD with these updates. GSAS-II updates can be installed by opening the GSAS-II program and navigating to Help>Check for Updates. \n",
    "\n",
    "When you are ready to write a script to call QUAD, GSAS-II files will need to be added to the path. Thus, it may be helpful to note where GSAS-II is installed on your computer. \n",
    "\n",
    "The mechanism of parameter selection and definition in QUAD is dependent on knowledge of GSAS-II and basic Rietveld refinement. If you are unfamiliar with this, it is recommended that you review the [GSAS-II tutorials](https://subversion.xray.aps.anl.gov/pyGSAS/trunk/help/Tutorials.html) and become familiar with the software. "
   ]
  },
  {
   "cell_type": "markdown",
   "metadata": {},
   "source": [
    "#### Now that Python, QUAD, and GSAS-II have been installed, you can begin setting up a calling script to run your analysis. Move on to the \"Setting up a calling script\" tutorial to conitnue. "
   ]
  }
 ],
 "metadata": {
  "kernelspec": {
   "display_name": "Python 3",
   "language": "python",
   "name": "python3"
  },
  "language_info": {
   "codemirror_mode": {
    "name": "ipython",
    "version": 3
   },
   "file_extension": ".py",
   "mimetype": "text/x-python",
   "name": "python",
   "nbconvert_exporter": "python",
   "pygments_lexer": "ipython3",
   "version": "3.7.3"
  }
 },
 "nbformat": 4,
 "nbformat_minor": 2
}
