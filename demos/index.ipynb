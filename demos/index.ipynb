{
 "cells": [
  {
   "cell_type": "markdown",
   "metadata": {},
   "source": [
    "# Quantitative Uncertainty Analysis for Diffraction [(QUAD)](https://github.com/rabroughton/QUAD) Tutorials\n",
    "Author(s): Rachel Broughton | Date Created: May 21st, 2019 | North Carolina State University\n",
    "\n",
    "## Introduction\n",
    "\n",
    "#### What is QUAD?\n",
    "The QUAD package is a Python program that employs a Bayesian statistical approach to fit full-profile x-ray and neutron diffraction patterns. The sampling algorithm used to perform the refinements is Delayed Rejection Adaptive Metropolim (DRAM). The package interfaces with the crystallography software package [GSAS-II](https://subversion.xray.aps.anl.gov/trac/pyGSAS) [1]. Profile and stuctural parameters that are refined in a least-squares Rietveld refinement in GSAS-II can also be refined with Bayesian techniques through QUAD. As a result, distributions on the material, structural, and instrumental parameters can obtained, which exhibit the uncertainties in the parameters [2]. An example of a posterior parameter distribution for one parameter from a Bayesian refinement run in QUAD is displayed in the figure below. These distributions are comparable to the least-squares fitting estimates and display the inherent uncertainty in collecting and fitting a diffraction pattern.\n",
    "\n",
    "![alt text](example_posterior.png \"Example posterior parameter distribution\")\n",
    "\n",
    "\n",
    "#### What is DRAM?\n",
    "Delayed Rejection Adaptive Metropolis (DRAM) is a version of a Metropolis-Hastings Markov chain Monte Carlo algorithm. More about the algorithm selection can be found in the book chapter \"Algorithms in Diffraction Profile Analysis\" [3]. These types of sampling methods are commonly employed in Bayesian statistics to obtain results. The goal is to sample from the posterior distributions in order to study your parameters of interest and the diffraction model fit. A complete understanding of Bayesian statistics and DRAM sampling is not neceesary for the operation and use of QUAD. However, it is important to understand that we will be looking at distributions of parameter samples that fit the diffraction data to models and not a single, fixed parameter value that defines one best-fit model. \n",
    "\n",
    "#### Why would I want to use this for my research?\n",
    "The results from QUAD can enhance the point estimates and standard uncertainty of parameter results from a least-squares Rietveld refinement. It provides enriched uncertainty information about the parameters and the resulting model fit. If your diffraction pattern is not fitting well, QUAD results can help point to where the errors in your model may lie through observations of convergence and parameter identifiability. Additionally, with the Bayesian methodology, you can incorporate prior knowledge or experimental information by specifying upper and lower bound values on the parameter sampling that only allow for physically realistic parameter values to be obtained. QUAD also allows for the thorough examination of parameter covariance and can result in non-Gaussian posterior parameter distributions. \n",
    "\n",
    "The tutorials below will guide you through how to setup and run QUAD. There are also tutorials that will highlight different capabilities of QUAD and present specific case studies. They are currently a work in progress with more tutorials coming soon. If you have questions, comments, or suggestions, please email rabrough@ncsu.edu. \n",
    "\n",
    "\n",
    "## Installation and Operation\n",
    "\n",
    "The code package can be found on the GitHub [QUAD project page](https://github.com/rabroughton/QUAD). The code was developed in Python 3.7. The repository can be cloned and saved locally and you can run `python setup.py install` to download the software. \n",
    "\n",
    "Alternatively, the master branch can be installed through pip install. This branch is typically kept up to date with the most recent developments. "
   ]
  },
  {
   "cell_type": "code",
   "execution_count": null,
   "metadata": {},
   "outputs": [],
   "source": [
    "pip install git+https://github.com/rabroughton/QUAD.git;"
   ]
  },
  {
   "cell_type": "markdown",
   "metadata": {},
   "source": [
    "If you are new to Python, have trouble with the installation, or woud like a detailed installation explanation, see **Tutorial1: Installation Instructions** to begin. \n",
    "\n",
    "A script will need to be written in order to initialize the inputs, call the software, and manage the outputs. A [SPYDER](https://www.spyder-ide.org/) integrated development environement was used for development, but the environment or notebook for the fitting script is left to the preference of the user. An example fitting script can be found on the [GitHub project page](https://github.com/rabroughton/QUAD) in the 'demos' folder. This is accompanied by an example data file for running the script in the same folder. It is recommend to start with **Tutorial 2: Setting up a calling script and running QUAD**, which guides the user through the process of setting up a fitting script to run the program.\n",
    "\n",
    "This code is dependent on a program called GSAS-II. Installation instructions can be found on the [GSAS-II webpage](https://subversion.xray.aps.anl.gov/trac/pyGSAS). It is recommended, but not necessary, to install the GSAS-II software through the Anaconda download, if possible on your machine. Note that the GSAS-II software is regularly updated and we will strive to maintain the functionality of QUAD with these updates. GSAS-II updates can be installed by opening the GSAS-II program and navigating to Help>Check for Updates.\n",
    "\n",
    "Now that the QUAD package and GSAS-II software are installed, you can begin your Bayesian refinement of a diffraction profile. Please see the tutorials for more information and guidance. Once the installation is complete, it is recommended to begin with tutorial #2 \"Setting up a calling script\", and then follow the tutorials in numerical order. Data files for the examples can be downloaded HERE. \n",
    "\n",
    "## QUAD Tutorials\n",
    "\n",
    "### 1) [Installation Instructions](Installation.ipynb)\n",
    "\n",
    "Learn how to install the QUAD program. Necessary if you are unfamiliar with Python and GitHub or if you are having installation issues with the `git clone` or `pip install`. \n",
    "\n",
    "### 2) [Setting up a calling script and running QUAD](Setup.ipynb)\n",
    "\n",
    "Learn how to setup and run QUAD and save the results with an example instrument parameter refinement on a laboratory x-ray diffraction pattern of LaB<sub>6</sub>. \n",
    "\n",
    "### 3) Credible and Prediction Intervals\n",
    "\n",
    "### 4) Initializing the proposal covariance\n",
    "\n",
    "### 5) Adjusting the input options\n",
    "\n",
    "### 6) Convergence diagnostics"
   ]
  },
  {
   "cell_type": "markdown",
   "metadata": {},
   "source": [
    "[1]Toby, B. H., & Von Dreele, R. B. (2013). \"GSAS-II: the genesis of a modern open-source all purpose crystallography software package\". *Journal of Applied Crystallography, 46*(2), 544-549.\n",
    "\n",
    "[2]Fancher, C. M., Han, Z., Levin, I., Page, K., Reich, B. J., Smith, R. C., Wilson, A. G., Jones, J. L. (2016). Use of Bayesian Inference in Crystallographic Structure Refinement via Full Diffraction Profile Analysis. *Scientific Reports, 6*(1), 31625.\n",
    "\n",
    "[3] Singh, S. P. et al. (2020). Algorithms in diffraction profile analysis. In S. Kalidindi, S. V. Kalinin, & T. Lookman (Eds.), *Handbook on big data and machine learning in the physical sciences: Volume I.* (pp.501-539) World Scientific."
   ]
  }
 ],
 "metadata": {
  "kernelspec": {
   "display_name": "Python 3",
   "language": "python",
   "name": "python3"
  },
  "language_info": {
   "codemirror_mode": {
    "name": "ipython",
    "version": 3
   },
   "file_extension": ".py",
   "mimetype": "text/x-python",
   "name": "python",
   "nbconvert_exporter": "python",
   "pygments_lexer": "ipython3",
   "version": "3.7.3"
  }
 },
 "nbformat": 4,
 "nbformat_minor": 2
}
